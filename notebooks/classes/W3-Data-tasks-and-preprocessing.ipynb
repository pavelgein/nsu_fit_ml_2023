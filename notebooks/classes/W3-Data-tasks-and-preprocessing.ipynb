{
 "cells": [
  {
   "cell_type": "markdown",
   "id": "8657fc0b",
   "metadata": {},
   "source": [
    "## Задача машинного обучения\n",
    "Основная задача — восстанавление некотрой зависимости по исходных данных\n",
    "\n",
    "### Примеры задач\n",
    "- классифцикация объетов на несколько классов, например, кредитный скоринг\n",
    "- предсказание определенного показателя, например, прогноз температуры\n",
    "- компьютерное зрение: автоматическая обработка изображений\n",
    "<table>\n",
    "    <tr>\n",
    "        <td>\n",
    "            <img src=\"../../data/segment_example/nsu_example.jpg\" width=400 />\n",
    "        </td>\n",
    "        <td>\n",
    "            <img src=\"../../data/segment_example/segmented.png\" width=400 />\n",
    "        </td>\n",
    "    </tr>\n",
    "</table>\n",
    "\n",
    "    - [Новосибирский государственный университет](https://www.nsu.ru/n/)\n",
    "    - [Segment anything](https://segment-anything.com/demo#)\n",
    "\n",
    "- обработка текстов\n",
    "- обработка звука\n",
    "- поиск\n",
    "- предсказание свойств молекул\n",
    "    - [DeepMind AplhaFold](https://www.deepmind.com/research/highlighted-research/alphafold) предсказывает геометрическую структуру молекул белков\n",
    "    \n",
    "    \n",
    "### Типы задач по доступности данных\n",
    "- с учителем (supervised learning)\n",
    "- без учителя (unsupervised learning)\n",
    "- с подкреплением (reinforcement learning)\n",
    "- активное обучение (active learning)\n",
    "- онлайн-обучение (online learning)\n",
    "\n",
    "\n",
    "### Типы задач по свойствам целевого объекта\n",
    "- классификация\n",
    "- регрессия\n",
    "- ранжирование\n",
    "- ..."
   ]
  },
  {
   "cell_type": "markdown",
   "id": "b8c0bdd0",
   "metadata": {},
   "source": [
    "## Типы данных\n",
    "- числовые\n",
    "- категориальные\n",
    "    - могут быть как упорядочены, так и нет\n",
    "- текстовые\n",
    "- изображения\n",
    "- звук\n",
    "- графы"
   ]
  },
  {
   "cell_type": "markdown",
   "id": "71f0e16b",
   "metadata": {},
   "source": [
    "### Контроль качества моделей\n",
    "- Отложенная выборка\n",
    "- кросс-валидация\n",
    "- Leave one out"
   ]
  },
  {
   "cell_type": "markdown",
   "id": "e667070b",
   "metadata": {},
   "source": [
    "## Предобработка данных\n",
    "Сложный этап. Часто требуется разработка метода под каждую задачу.\n",
    "\n",
    "#### Выброс\n",
    "Часто определить является ли конкретный объект выбросом или нет, сложно. Есть попытки разработать универсальные алгоритмы определения выбросов, например, на основе [машины опорных векторов](https://scikit-learn.org/stable/modules/generated/sklearn.svm.OneClassSVM.html#sklearn.svm.OneClassSVM).\n",
    "\n",
    "\n",
    "#### Пропуски в данных\n",
    "Некоторые модели могут обрабабывать данные с пропусками, некоторые — нет\n",
    "Стратегии обработки:\n",
    "- удалить признак\n",
    "- удалить пример\n",
    "- заполнить пропуск:\n",
    "    - среднее значение\n",
    "    - мода\n",
    "    - медиана\n",
    "    - специальное значение\n",
    "    - обучить другую модель и заполнить с помощью нее\n",
    "    \n",
    "    \n",
    "#### Масштабирование данных\n",
    "- Приведение данных в фиксированный диапазон"
   ]
  },
  {
   "cell_type": "code",
   "execution_count": 1,
   "id": "53f03507",
   "metadata": {},
   "outputs": [
    {
     "name": "stdout",
     "output_type": "stream",
     "text": [
      "[[203 303 103 103]\n",
      " [403 203 103 203]\n",
      " [303 203   3 203]\n",
      " [203 203   3 203]\n",
      " [103   3 603   3]\n",
      " [303 303 203 403]\n",
      " [103 403 603 103]\n",
      " [  3   3 303   3]\n",
      " [  3 203 403   3]\n",
      " [203 103   3 103]\n",
      " [203 103 303 203]\n",
      " [103 403 103 203]\n",
      " [103 103 303 303]\n",
      " [403 103 303 103]\n",
      " [403   3 103   3]]\n",
      "Mean [203.         176.33333333 229.66666667 143.        ]\n",
      "Std [131.65611772 128.92719737 191.36933459 114.30952133]\n",
      "[[0.5        0.75       0.16666667 0.25      ]\n",
      " [1.         0.5        0.16666667 0.5       ]\n",
      " [0.75       0.5        0.         0.5       ]\n",
      " [0.5        0.5        0.         0.5       ]\n",
      " [0.25       0.         1.         0.        ]\n",
      " [0.75       0.75       0.33333333 1.        ]\n",
      " [0.25       1.         1.         0.25      ]\n",
      " [0.         0.         0.5        0.        ]\n",
      " [0.         0.5        0.66666667 0.        ]\n",
      " [0.5        0.25       0.         0.25      ]\n",
      " [0.5        0.25       0.5        0.5       ]\n",
      " [0.25       1.         0.16666667 0.5       ]\n",
      " [0.25       0.25       0.5        0.75      ]\n",
      " [1.         0.25       0.5        0.25      ]\n",
      " [1.         0.         0.16666667 0.        ]]\n",
      "Mean [0.5        0.43333333 0.37777778 0.35      ]\n",
      "Std [0.32914029 0.32231799 0.31894889 0.2857738 ]\n"
     ]
    }
   ],
   "source": [
    "import numpy as np\n",
    "from sklearn.preprocessing import MinMaxScaler\n",
    "\n",
    "x = 100 * np.random.poisson(lam=2, size=(15, 4)) + 3\n",
    "print(x)\n",
    "print('Mean', x.mean(axis=0))\n",
    "print('Std', x.std(axis=0))\n",
    "\n",
    "scaler = MinMaxScaler()\n",
    "scaler.fit(x)\n",
    "\n",
    "transformed = scaler.transform(x)\n",
    "print(transformed)\n",
    "print('Mean', transformed.mean(axis=0))\n",
    "print('Std', transformed.std(axis=0))"
   ]
  },
  {
   "cell_type": "markdown",
   "id": "1fdff03b",
   "metadata": {},
   "source": [
    "- Нормазилация"
   ]
  },
  {
   "cell_type": "code",
   "execution_count": 2,
   "id": "ebea3e93",
   "metadata": {},
   "outputs": [
    {
     "name": "stdout",
     "output_type": "stream",
     "text": [
      "[[  3   3 103 303]\n",
      " [303 103 103 403]\n",
      " [103   3 203 103]\n",
      " [203 503 603 303]\n",
      " [103 103 103 203]\n",
      " [203 103 303 203]\n",
      " [303 303 203   3]\n",
      " [103 103 203 303]\n",
      " [  3 203 403 203]\n",
      " [203 303   3 403]\n",
      " [103 103 403 203]\n",
      " [203   3 203 503]\n",
      " [403 103 103   3]\n",
      " [203 203 403 203]\n",
      " [103 203 203 403]]\n",
      "Mean [169.66666667 156.33333333 236.33333333 249.66666667]\n",
      "Std [107.49676998 130.97921803 153.47819244 140.79141388]\n",
      "[[-1.55043418 -1.17066918 -0.86874449  0.37881098]\n",
      " [ 1.24034735 -0.40718928 -0.86874449  1.08908156]\n",
      " [-0.62017367 -1.17066918 -0.21718612 -1.04173019]\n",
      " [ 0.31008684  2.64673031  2.38904734  0.37881098]\n",
      " [-0.62017367 -0.40718928 -0.86874449 -0.33145961]\n",
      " [ 0.31008684 -0.40718928  0.43437224 -0.33145961]\n",
      " [ 1.24034735  1.11977052 -0.21718612 -1.75200078]\n",
      " [-0.62017367 -0.40718928 -0.21718612  0.37881098]\n",
      " [-1.55043418  0.35629062  1.08593061 -0.33145961]\n",
      " [ 0.31008684  1.11977052 -1.52030285  1.08908156]\n",
      " [-0.62017367 -0.40718928  1.08593061 -0.33145961]\n",
      " [ 0.31008684 -1.17066918 -0.21718612  1.79935215]\n",
      " [ 2.17060786 -0.40718928 -0.86874449 -1.75200078]\n",
      " [ 0.31008684  0.35629062  1.08593061 -0.33145961]\n",
      " [-0.62017367  0.35629062 -0.21718612  1.08908156]]\n",
      "Mean [ 7.40148683e-17 -1.18423789e-16 -8.69674703e-17  4.44089210e-17]\n",
      "Std [1. 1. 1. 1.]\n"
     ]
    }
   ],
   "source": [
    "import numpy as np\n",
    "from sklearn.preprocessing import StandardScaler\n",
    "\n",
    "x = 100 * np.random.poisson(lam=2, size=(15, 4)) + 3\n",
    "print(x)\n",
    "print('Mean', x.mean(axis=0))\n",
    "print('Std', x.std(axis=0))\n",
    "\n",
    "scaler = StandardScaler()\n",
    "scaler.fit(x)\n",
    "\n",
    "transformed = scaler.transform(x)\n",
    "print(transformed)\n",
    "print('Mean', transformed.mean(axis=0))\n",
    "print('Std', transformed.std(axis=0))"
   ]
  },
  {
   "cell_type": "markdown",
   "id": "0b3ed50c",
   "metadata": {},
   "source": [
    "* Преобразование Бокса-Кокса\n",
    "\n",
    "$$\n",
    "    BoxCox(y, \\lambda) = \\begin{cases}\n",
    "        \\dfrac{y^\\lambda -1}{\\lambda}, & \\lambda \\neq 0 \\\\\n",
    "        \\ln y, & \\lambda = 0\n",
    "    \\end{cases}\n",
    "$$"
   ]
  },
  {
   "cell_type": "code",
   "execution_count": 3,
   "id": "ea3fe0aa",
   "metadata": {},
   "outputs": [],
   "source": [
    "import numpy as np\n",
    "\n",
    "def box_cox(lambda_, y):\n",
    "    if lambda_ == 0:\n",
    "        return np.log(y)\n",
    "    \n",
    "    return (np.power(y, lambda_) - 1) / lambda_"
   ]
  },
  {
   "cell_type": "code",
   "execution_count": 4,
   "id": "12d100e3",
   "metadata": {},
   "outputs": [
    {
     "data": {
      "text/plain": [
       "<matplotlib.legend.Legend at 0x14fae02b0>"
      ]
     },
     "execution_count": 4,
     "metadata": {},
     "output_type": "execute_result"
    },
    {
     "data": {
      "image/png": "[encoded data removed]",
      "text/plain": [
       "<Figure size 800x800 with 1 Axes>"
      ]
     },
     "metadata": {},
     "output_type": "display_data"
    }
   ],
   "source": [
    "import seaborn as sns\n",
    "import matplotlib.pyplot as plt\n",
    "import scipy.stats\n",
    "\n",
    "%matplotlib inline\n",
    "\n",
    "sns.set()\n",
    "\n",
    "fig, ax = plt.subplots(1, 1, figsize = (8, 8))\n",
    "data = np.random.beta(1, 3, 5000)\n",
    "sns.histplot(data, kde=True, label='Original data', ax=ax, color='blue')\n",
    "\n",
    "lambda_ = 0.1\n",
    "box_cox_1 = box_cox(lambda_, data)\n",
    "sns.histplot(box_cox_1, kde=True, label=f'After Box-Cox with $\\lambda={lambda_}$', color='red', ax=ax)\n",
    "\n",
    "transformed, optimal_lambda = scipy.stats.boxcox(data)\n",
    "sns.histplot(transformed, kde=True, label=f'After Box-Cox with $\\lambda={optimal_lambda}$', color='green', ax=ax)\n",
    "\n",
    "\n",
    "plt.legend()"
   ]
  },
  {
   "cell_type": "markdown",
   "id": "c061a559",
   "metadata": {},
   "source": [
    "### Категориальные признаки\n",
    "- Каждому значению приписываем числовое значени"
   ]
  },
  {
   "cell_type": "code",
   "execution_count": 5,
   "id": "27fbf8ae",
   "metadata": {},
   "outputs": [
    {
     "data": {
      "text/plain": [
       "array([[0.],\n",
       "       [2.],\n",
       "       [1.],\n",
       "       [0.]])"
      ]
     },
     "execution_count": 5,
     "metadata": {},
     "output_type": "execute_result"
    }
   ],
   "source": [
    "import pandas as pd\n",
    "from sklearn.preprocessing import OrdinalEncoder\n",
    "\n",
    "data = pd.Series(['BMW', 'Volvo', 'Mercedes', 'BMW'])\n",
    "reshaped = data.values.reshape(-1, 1)\n",
    "encoder = OrdinalEncoder().fit(reshaped)\n",
    "\n",
    "encoder.transform(reshaped)"
   ]
  },
  {
   "cell_type": "markdown",
   "id": "bccdc07b",
   "metadata": {},
   "source": [
    "- OneHotEncoding\n",
    "\n",
    "Каждый признак преобразуется в вектор длины, равной числу категорий.\n",
    "У примера на $i$-ом месте стоит 1 тогда и только тогда, когда признак принмает значение $i$-ой категории"
   ]
  },
  {
   "cell_type": "code",
   "execution_count": 6,
   "id": "1adf542b",
   "metadata": {},
   "outputs": [
    {
     "name": "stdout",
     "output_type": "stream",
     "text": [
      "<class 'scipy.sparse._csr.csr_matrix'>\n",
      "[[1. 0. 0.]\n",
      " [0. 0. 1.]\n",
      " [0. 1. 0.]\n",
      " [1. 0. 0.]]\n"
     ]
    }
   ],
   "source": [
    "import pandas as pd\n",
    "from sklearn.preprocessing import OneHotEncoder\n",
    "\n",
    "data = pd.Series(['BMW', 'Volvo', 'Mercedes', 'BMW'])\n",
    "reshaped = data.values.reshape(-1, 1)\n",
    "encoder = OneHotEncoder().fit(reshaped)\n",
    "\n",
    "result = encoder.transform(reshaped)\n",
    "print(type(result))\n",
    "print(result.todense())"
   ]
  },
  {
   "cell_type": "markdown",
   "id": "faa8154b",
   "metadata": {},
   "source": [
    "* TargetEncoding\n",
    "\n",
    "Давайте положим какую-нибудь статистику по целевой переменной, например, среднее значние для задачи регрессии или долю объектов положительного класса для задачи классификации\n",
    "\n",
    "**Важно**: поскольку мы добавляем в обучающие данные информацию о целевой переменной, это может приводить к утечке данных.\n",
    "Нужно быть аккуратным, чтобы избежать вырождения задачи"
   ]
  },
  {
   "cell_type": "code",
   "execution_count": 28,
   "id": "c7bafdd0",
   "metadata": {},
   "outputs": [
    {
     "name": "stdout",
     "output_type": "stream",
     "text": [
      "0.405\n"
     ]
    },
    {
     "data": {
      "text/html": [
       "<div>\n",
       "<style scoped>\n",
       "    .dataframe tbody tr th:only-of-type {\n",
       "        vertical-align: middle;\n",
       "    }\n",
       "\n",
       "    .dataframe tbody tr th {\n",
       "        vertical-align: top;\n",
       "    }\n",
       "\n",
       "    .dataframe thead th {\n",
       "        text-align: right;\n",
       "    }\n",
       "</style>\n",
       "<table border=\"1\" class=\"dataframe\">\n",
       "  <thead>\n",
       "    <tr style=\"text-align: right;\">\n",
       "      <th></th>\n",
       "      <th>auto</th>\n",
       "      <th>y</th>\n",
       "    </tr>\n",
       "  </thead>\n",
       "  <tbody>\n",
       "    <tr>\n",
       "      <th>0</th>\n",
       "      <td>Mercedes</td>\n",
       "      <td>0</td>\n",
       "    </tr>\n",
       "    <tr>\n",
       "      <th>1</th>\n",
       "      <td>BMW</td>\n",
       "      <td>0</td>\n",
       "    </tr>\n",
       "    <tr>\n",
       "      <th>2</th>\n",
       "      <td>BMW</td>\n",
       "      <td>1</td>\n",
       "    </tr>\n",
       "    <tr>\n",
       "      <th>3</th>\n",
       "      <td>BMW</td>\n",
       "      <td>1</td>\n",
       "    </tr>\n",
       "    <tr>\n",
       "      <th>4</th>\n",
       "      <td>BMW</td>\n",
       "      <td>1</td>\n",
       "    </tr>\n",
       "    <tr>\n",
       "      <th>...</th>\n",
       "      <td>...</td>\n",
       "      <td>...</td>\n",
       "    </tr>\n",
       "    <tr>\n",
       "      <th>95</th>\n",
       "      <td>BMW</td>\n",
       "      <td>1</td>\n",
       "    </tr>\n",
       "    <tr>\n",
       "      <th>96</th>\n",
       "      <td>Mercedes</td>\n",
       "      <td>0</td>\n",
       "    </tr>\n",
       "    <tr>\n",
       "      <th>97</th>\n",
       "      <td>BMW</td>\n",
       "      <td>1</td>\n",
       "    </tr>\n",
       "    <tr>\n",
       "      <th>98</th>\n",
       "      <td>Volvo</td>\n",
       "      <td>0</td>\n",
       "    </tr>\n",
       "    <tr>\n",
       "      <th>99</th>\n",
       "      <td>BMW</td>\n",
       "      <td>1</td>\n",
       "    </tr>\n",
       "  </tbody>\n",
       "</table>\n",
       "<p>100 rows × 2 columns</p>\n",
       "</div>"
      ],
      "text/plain": [
       "        auto  y\n",
       "0   Mercedes  0\n",
       "1        BMW  0\n",
       "2        BMW  1\n",
       "3        BMW  1\n",
       "4        BMW  1\n",
       "..       ... ..\n",
       "95       BMW  1\n",
       "96  Mercedes  0\n",
       "97       BMW  1\n",
       "98     Volvo  0\n",
       "99       BMW  1\n",
       "\n",
       "[100 rows x 2 columns]"
      ]
     },
     "execution_count": 28,
     "metadata": {},
     "output_type": "execute_result"
    }
   ],
   "source": [
    "import pandas as pd\n",
    "from sklearn.preprocessing import TargetEncoder\n",
    "\n",
    "n = 1000\n",
    "\n",
    "target_probs = {\n",
    "    'BMW': 0.7,\n",
    "    'Volvo': 0.3,\n",
    "    'Mercedes': 0.2,\n",
    "}\n",
    "\n",
    "auto = pd.Series(np.random.choice(list(target_probs.keys()), n))\n",
    "y = (np.random.rand(n) < auto.replace(target_probs)).astype('int')\n",
    "\n",
    "data = pd.DataFrame({\n",
    "    'auto': auto,\n",
    "    'y': y,\n",
    "})\n",
    "    \n",
    "print(y.mean())\n",
    "data.head(n=100)"
   ]
  },
  {
   "cell_type": "code",
   "execution_count": 48,
   "id": "ae2044d4",
   "metadata": {},
   "outputs": [
    {
     "data": {
      "text/plain": [
       "auto\n",
       "BMW         0.726225\n",
       "Mercedes    0.189759\n",
       "Volvo       0.280374\n",
       "Name: y, dtype: float64"
      ]
     },
     "execution_count": 48,
     "metadata": {},
     "output_type": "execute_result"
    }
   ],
   "source": [
    "data.groupby('auto')['y'].mean()"
   ]
  },
  {
   "cell_type": "code",
   "execution_count": 46,
   "id": "4dd7fa72",
   "metadata": {},
   "outputs": [
    {
     "data": {
      "text/html": [
       "<div>\n",
       "<style scoped>\n",
       "    .dataframe tbody tr th:only-of-type {\n",
       "        vertical-align: middle;\n",
       "    }\n",
       "\n",
       "    .dataframe tbody tr th {\n",
       "        vertical-align: top;\n",
       "    }\n",
       "\n",
       "    .dataframe thead th {\n",
       "        text-align: right;\n",
       "    }\n",
       "</style>\n",
       "<table border=\"1\" class=\"dataframe\">\n",
       "  <thead>\n",
       "    <tr style=\"text-align: right;\">\n",
       "      <th></th>\n",
       "      <th>auto</th>\n",
       "      <th>y</th>\n",
       "      <th>encoded_auto</th>\n",
       "    </tr>\n",
       "  </thead>\n",
       "  <tbody>\n",
       "    <tr>\n",
       "      <th>0</th>\n",
       "      <td>Mercedes</td>\n",
       "      <td>0</td>\n",
       "      <td>0.190172</td>\n",
       "    </tr>\n",
       "    <tr>\n",
       "      <th>1</th>\n",
       "      <td>BMW</td>\n",
       "      <td>0</td>\n",
       "      <td>0.725463</td>\n",
       "    </tr>\n",
       "    <tr>\n",
       "      <th>2</th>\n",
       "      <td>BMW</td>\n",
       "      <td>1</td>\n",
       "      <td>0.725463</td>\n",
       "    </tr>\n",
       "    <tr>\n",
       "      <th>3</th>\n",
       "      <td>BMW</td>\n",
       "      <td>1</td>\n",
       "      <td>0.725463</td>\n",
       "    </tr>\n",
       "    <tr>\n",
       "      <th>4</th>\n",
       "      <td>BMW</td>\n",
       "      <td>1</td>\n",
       "      <td>0.725463</td>\n",
       "    </tr>\n",
       "  </tbody>\n",
       "</table>\n",
       "</div>"
      ],
      "text/plain": [
       "       auto  y  encoded_auto\n",
       "0  Mercedes  0      0.190172\n",
       "1       BMW  0      0.725463\n",
       "2       BMW  1      0.725463\n",
       "3       BMW  1      0.725463\n",
       "4       BMW  1      0.725463"
      ]
     },
     "execution_count": 46,
     "metadata": {},
     "output_type": "execute_result"
    }
   ],
   "source": [
    "target_encoder = TargetEncoder(cv=10, target_type='binary')\n",
    "target_encoder.fit(data[['auto']], data['y'])\n",
    "\n",
    "data.loc[:, 'encoded_auto'] = target_encoder.transform(data[['auto']])\n",
    "data.head()"
   ]
  },
  {
   "cell_type": "code",
   "execution_count": null,
   "id": "3e21499e",
   "metadata": {},
   "outputs": [],
   "source": []
  }
 ],
 "metadata": {
  "kernelspec": {
   "display_name": "Python 3 (ipykernel)",
   "language": "python",
   "name": "python3"
  },
  "language_info": {
   "codemirror_mode": {
    "name": "ipython",
    "version": 3
   },
   "file_extension": ".py",
   "mimetype": "text/x-python",
   "name": "python",
   "nbconvert_exporter": "python",
   "pygments_lexer": "ipython3",
   "version": "3.10.12"
  }
 },
 "nbformat": 4,
 "nbformat_minor": 5
}
