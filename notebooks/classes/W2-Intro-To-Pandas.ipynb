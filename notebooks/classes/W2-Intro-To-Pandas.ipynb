{
 "cells": [
  {
   "cell_type": "markdown",
   "id": "4f0be03b",
   "metadata": {},
   "source": [
    "## Pandas"
   ]
  },
  {
   "cell_type": "code",
   "execution_count": null,
   "id": "de0641f8",
   "metadata": {},
   "outputs": [],
   "source": [
    "import pandas as pd"
   ]
  },
  {
   "cell_type": "markdown",
   "id": "967ee1fa",
   "metadata": {},
   "source": [
    "### pd.Series\n",
    "\n",
    "`pd.Series` — это аналог массива `np.ndarray`, но в качестве индекса можно использовать любые объекты.\n",
    "Так же как и `np.ndarray` поддерживает векторизированные операции"
   ]
  },
  {
   "cell_type": "code",
   "execution_count": null,
   "id": "5fbfa3f3",
   "metadata": {},
   "outputs": [],
   "source": [
    "s1 = pd.Series(range(10))\n",
    "s2 = pd.Series(range(10, 20))\n",
    "s1 + s2"
   ]
  },
  {
   "cell_type": "markdown",
   "id": "324acb38",
   "metadata": {},
   "source": [
    "#### Нечисловой индекс"
   ]
  },
  {
   "cell_type": "code",
   "execution_count": null,
   "id": "7a9a18ee",
   "metadata": {},
   "outputs": [],
   "source": [
    "s3 = pd.Series({'x': 132, 'y': 456})\n",
    "s4 = pd.Series({'z': 100, 'x': -100})\n",
    "\n",
    "s3 * s4"
   ]
  },
  {
   "cell_type": "markdown",
   "id": "4db27c77",
   "metadata": {},
   "source": [
    "#### Типы данных\n",
    "- `str`\n",
    "- `float` различных размеров\n",
    "- `int` различных размеров\n",
    "- `bool`\n",
    "- `categorical`"
   ]
  },
  {
   "cell_type": "code",
   "execution_count": null,
   "id": "2700cbcb",
   "metadata": {},
   "outputs": [],
   "source": [
    "marks = pd.CategoricalDtype(['BMW', 'Volvo', 'Mercedes'])\n",
    "autos = pd.Series(['BMW', 'BMW', 'Volvo', 'Mercedes'] * 10)\n",
    "converted = autos.astype(marks)\n",
    "\n",
    "print(autos.memory_usage())\n",
    "print(converted.memory_usage())"
   ]
  },
  {
   "cell_type": "markdown",
   "id": "b8757852",
   "metadata": {},
   "source": [
    "#### Операции для работы со строками\n",
    "Доступны через `pd.Series.str`, эффективно реализованы, в том числе регулярные вырожеения"
   ]
  },
  {
   "cell_type": "code",
   "execution_count": null,
   "id": "f4d280d6",
   "metadata": {},
   "outputs": [],
   "source": [
    "sentences = pd.Series([\n",
    "    'Маша мыла раму',\n",
    "    'Проезд стоит 33 рубля',\n",
    "    'Просто какой-то достаточно длинный текст на руксском языке',\n",
    "])\n",
    "\n",
    "print('Длины текстов')\n",
    "print(sentences.str.len())\n",
    "\n",
    "print('Тексты в нижнем регистре')\n",
    "print(sentences.str.lower())\n",
    "\n",
    "print('Взять первое слово')\n",
    "print(sentences.str.split().str[0])\n",
    "\n",
    "print('Взять начало текста')\n",
    "print(sentences.str[:10])\n",
    "\n",
    "print('Замена по регулряному вырожению')\n",
    "print(sentences.str.replace('(\\d)+', '[NUMBER]', regex=True))"
   ]
  },
  {
   "cell_type": "markdown",
   "id": "071ee53e",
   "metadata": {},
   "source": [
    "### pd.DataFrame\n",
    "\n",
    "`pd.DataFrame` представляет собой таблицу, различные столбцы которой могут иметь различные типы данных.\n",
    "Каждая колонка и каждлая строка представляет собой `pd.Series`"
   ]
  },
  {
   "cell_type": "code",
   "execution_count": null,
   "id": "4955d1d9",
   "metadata": {},
   "outputs": [],
   "source": [
    "df = pd.DataFrame({\n",
    "    'age': [23, 30, 23],\n",
    "    'car': ['Volvo', 'BMW', 'Mercedes'],\n",
    "    'married': [True, False, True],\n",
    "})"
   ]
  },
  {
   "cell_type": "markdown",
   "id": "35827852",
   "metadata": {},
   "source": [
    "#### Базовые методы\n",
    "Одинаковые для `pd.Series` и `pd.DataFrame`, однако, для `pd.DataFrame` можно указывать вдоль какой оси сделать (если требуется).\n",
    "\n",
    "- `min`\n",
    "- `max`\n",
    "- `sum`\n",
    "- `cumsum`\n",
    "- `head`\n",
    "- `describe`\n",
    "- `sample`\n",
    "- `isnull`\n",
    "- `replace` — позволяет заменить по словарю, другому `pd.Series`\n",
    "- `map`"
   ]
  },
  {
   "cell_type": "markdown",
   "id": "8bb71e2e",
   "metadata": {},
   "source": [
    "### Input/Output\n",
    "Поддерживает популярные форматы:\n",
    "- CSV\n",
    "- JSON\n",
    "- Excel\n",
    "- [Apache Parquet](https://parquet.apache.org/)\n",
    "\n",
    "\n",
    "Функции `pd.read_{FORMAT}` и `pd.DataFrame.to_{FORMAT}`"
   ]
  },
  {
   "cell_type": "markdown",
   "id": "4749fd60",
   "metadata": {},
   "source": [
    "### Индексация\n",
    "- `.loc` - обращение по ключу. Можно передать несколько индексов, тогда будет выбраны строка и столбец\n",
    "- `.iloc` - обращение по номеру элемента (зависит от того, в каком порядке лежат элементы, может быть нестабильным)\n",
    "- `[]` - выбрать колонку\n",
    "\n",
    "\n",
    "Так же можно выбирать по булевой маске или срезы\n",
    "\n",
    "\n",
    "#### Multiindex\n",
    "Элементом индекса может быть кортеж. В этом случае можно делать срезы только по первой компоненте, например.\n",
    "\n",
    "\n",
    "#### Работа с индексом\n",
    "- `.set_index` - устанвовить индексом аргмуент (например, можно передать имя колонки)\n",
    "- `.reset_index` - сбросить индекс и занумеровать числами от 0 до числа строк\n",
    "- `.sort_index` - расположить строки в порядке индекса"
   ]
  },
  {
   "cell_type": "markdown",
   "id": "bb99ea33",
   "metadata": {},
   "source": [
    "### Группировка и агрегаты\n",
    "У рядов и таблиц есть методы, которые позволяют вычислять агргеаты: сумму, среднее, минимум, максимум, ...\n",
    "\n",
    "Но часто нужно посчитать статистику внутри какой-либо группу, для этого можно сгруппировать ряд или таблицу"
   ]
  },
  {
   "cell_type": "markdown",
   "id": "58f471b6",
   "metadata": {},
   "source": [
    "### [Adult](https://archive.ics.uci.edu/dataset/2/adult)\n",
    "\n",
    "Датасет, содержащий 32561 запись о жителях США. Собран в 1994 году.\n",
    "\n",
    "**Цель**: предсказать будет ли заработок превышать 50000$ или нет"
   ]
  },
  {
   "cell_type": "code",
   "execution_count": null,
   "id": "d3391bd2",
   "metadata": {},
   "outputs": [],
   "source": [
    "columns = [\n",
    "    'age',\n",
    "    'workclass',\n",
    "    'fnlwgt',\n",
    "    'education',\n",
    "    'education-num',\n",
    "    'marital-status',\n",
    "    'occupation',\n",
    "    'relationship',\n",
    "    'race',\n",
    "    'sex',\n",
    "    'capital-gain',\n",
    "    'capital-loss',\n",
    "    'hours-per-week',\n",
    "    'native-country',\n",
    "    'target',\n",
    "]\n",
    "\n",
    "\n",
    "adult = pd.read_csv('../../data/adult/adult.data', header=None)\n",
    "adult.columns = columns\n",
    "\n",
    "adult.head()"
   ]
  },
  {
   "cell_type": "code",
   "execution_count": null,
   "id": "9db8e7fe",
   "metadata": {},
   "outputs": [],
   "source": [
    "adult.loc[3:5]"
   ]
  },
  {
   "cell_type": "code",
   "execution_count": null,
   "id": "88a58369",
   "metadata": {},
   "outputs": [],
   "source": [
    "adult.loc[:, 'age':'education']"
   ]
  },
  {
   "cell_type": "code",
   "execution_count": null,
   "id": "4f2e0cb1",
   "metadata": {},
   "outputs": [],
   "source": [
    "adult['target'].unique()"
   ]
  },
  {
   "cell_type": "code",
   "execution_count": null,
   "id": "1d403419",
   "metadata": {},
   "outputs": [],
   "source": [
    "adult['binary_target'] = adult['target'].replace({' <=50K': 0, ' >50K': 1})"
   ]
  },
  {
   "cell_type": "code",
   "execution_count": null,
   "id": "fe5fe608",
   "metadata": {},
   "outputs": [],
   "source": [
    "adult.describe()"
   ]
  },
  {
   "cell_type": "code",
   "execution_count": null,
   "id": "49165ef5",
   "metadata": {},
   "outputs": [],
   "source": [
    "adult['relationship'].value_counts()"
   ]
  },
  {
   "cell_type": "code",
   "execution_count": null,
   "id": "6b501f1e",
   "metadata": {},
   "outputs": [],
   "source": [
    "grouped = adult.groupby(['sex', 'workclass']).agg({\n",
    "    'binary_target': ['count', 'mean'],\n",
    "    'age': ['median'],\n",
    "})\n",
    "\n",
    "grouped.head()"
   ]
  },
  {
   "cell_type": "code",
   "execution_count": null,
   "id": "ecd8b5bc",
   "metadata": {},
   "outputs": [],
   "source": [
    "grouped.loc[' Female': (' Male', ' Federal-gov')]"
   ]
  },
  {
   "cell_type": "markdown",
   "id": "fbe5d96b",
   "metadata": {},
   "source": [
    "## Визуализация"
   ]
  },
  {
   "cell_type": "markdown",
   "id": "d380598b",
   "metadata": {},
   "source": [
    "### Почему визуализация важна?\n",
    "Квартет Энскомба"
   ]
  },
  {
   "cell_type": "code",
   "execution_count": null,
   "id": "b0761a53",
   "metadata": {},
   "outputs": [],
   "source": [
    "import pandas as pd\n",
    "\n",
    "\n",
    "anscombe = pd.read_csv('../../data/anscombe_quartet.csv')\n",
    "anscombe.head()"
   ]
  },
  {
   "cell_type": "code",
   "execution_count": null,
   "id": "5ea627e8",
   "metadata": {},
   "outputs": [],
   "source": [
    "anscombe.agg(['mean', 'std'])"
   ]
  },
  {
   "cell_type": "code",
   "execution_count": null,
   "id": "8c92aae5",
   "metadata": {},
   "outputs": [],
   "source": [
    "anscombe_corr = anscombe.corr()\n",
    "for i in range(1, 5):\n",
    "    corr = anscombe_corr.loc[(f'x{i}', f'y{i}')]\n",
    "    print(f'corr(x{i},y{i})={corr}')"
   ]
  },
  {
   "cell_type": "code",
   "execution_count": null,
   "id": "17895eab",
   "metadata": {},
   "outputs": [],
   "source": [
    "import matplotlib.pyplot as plt\n",
    "import seaborn as sns\n",
    "%matplotlib inline\n",
    "\n",
    "\n",
    "n_groups = 4\n",
    "row_size = 2\n",
    "fig, axes = plt.subplots(\n",
    "    n_groups // row_size,\n",
    "    row_size,\n",
    "    figsize=(6, 6),\n",
    "    sharex=True,\n",
    "    sharey=True,\n",
    ")\n",
    "for i in range(1, 5):\n",
    "    row = (i - 1) // row_size\n",
    "    column = (i - 1) % row_size\n",
    "    ax = axes[row][column]\n",
    "    x = anscombe[f'x{i}']\n",
    "    y = anscombe[f'y{i}']\n",
    "    ax.scatter(x, y)\n",
    "    ax.set_title(f'Группа {i}')\n",
    "\n",
    "fig.suptitle('Квартет Энскомба')\n",
    "plt.subplots_adjust()"
   ]
  },
  {
   "cell_type": "markdown",
   "id": "29e0dc6d",
   "metadata": {},
   "source": [
    "### Библиотеки для визуализации\n",
    "* [Matplotlib](https://matplotlib.org/) — одна из первых библиотек, до сих пор широко используется. Канонически импортируется как \n",
    "    ```python\n",
    "    import matloblib.pyplot as plt\n",
    "    ```\n",
    "    \n",
    "* [Seaborn](https://seaborn.pydata.org/) — надстройка на matplotlib, упрощает многие рутинные операции.\n",
    "Канонически импортируется как \n",
    "```python\n",
    "import seaborn as sns\n",
    "```\n",
    "\n",
    "* [Bokeh](https://bokeh.org/) - библиотека, позволяющая стороить интерактивные графики и виджеты\n",
    "\n",
    "* [Plotly](https://plotly.com/graphing-libraries/) — библиотека с упором на интерактивность"
   ]
  },
  {
   "cell_type": "markdown",
   "id": "368a507b",
   "metadata": {},
   "source": [
    "### Типы графиков"
   ]
  },
  {
   "cell_type": "markdown",
   "id": "cc6b0c29",
   "metadata": {},
   "source": [
    "#### Гистограмма"
   ]
  },
  {
   "cell_type": "code",
   "execution_count": null,
   "id": "2d186354",
   "metadata": {},
   "outputs": [],
   "source": [
    "import seaborn as sns\n",
    "sns.set()\n",
    "sns.displot(adult['age'], kde=True)"
   ]
  },
  {
   "cell_type": "code",
   "execution_count": null,
   "id": "137f4a5b",
   "metadata": {},
   "outputs": [],
   "source": [
    "sns.displot(\n",
    "    data=adult,\n",
    "    x='age',\n",
    "    col='sex',\n",
    "    hue='target',\n",
    ")"
   ]
  },
  {
   "cell_type": "markdown",
   "id": "e08b222b",
   "metadata": {},
   "source": [
    "#### Точечные графики (диаграммы рассеивания)"
   ]
  },
  {
   "cell_type": "code",
   "execution_count": null,
   "id": "51fede13",
   "metadata": {},
   "outputs": [],
   "source": [
    "sns.scatterplot(\n",
    "    data=adult,\n",
    "    x='age',\n",
    "    y='capital-gain',\n",
    ")"
   ]
  },
  {
   "cell_type": "code",
   "execution_count": null,
   "id": "c5ccfd44",
   "metadata": {},
   "outputs": [],
   "source": [
    "sns.pairplot(adult)"
   ]
  },
  {
   "cell_type": "markdown",
   "id": "7a215568",
   "metadata": {},
   "source": [
    "#### Ящичные диограмым (box-plot)"
   ]
  },
  {
   "cell_type": "code",
   "execution_count": null,
   "id": "3e14a235",
   "metadata": {},
   "outputs": [],
   "source": [
    "sns.boxplot(\n",
    "    data=adult,\n",
    "    x='education-num',\n",
    "    y='age',\n",
    ")"
   ]
  },
  {
   "cell_type": "code",
   "execution_count": null,
   "id": "6ede6ac1",
   "metadata": {},
   "outputs": [],
   "source": [
    "sns.violinplot(\n",
    "    data=adult,\n",
    "    x='education-num',\n",
    "    y='age',\n",
    ")"
   ]
  },
  {
   "cell_type": "code",
   "execution_count": null,
   "id": "a8cd54f9",
   "metadata": {},
   "outputs": [],
   "source": [
    "adult.columns"
   ]
  },
  {
   "cell_type": "code",
   "execution_count": null,
   "id": "158a9e45",
   "metadata": {},
   "outputs": [],
   "source": [
    "adult.pivot_table(values=['binary_target'], index=['sex', 'education'], aggfunc='mean')"
   ]
  },
  {
   "cell_type": "markdown",
   "id": "0d9adc4d",
   "metadata": {},
   "source": [
    "### Ссылки\n",
    "1. [Сборник](https://github.com/HorusHeresyHeretic/Pandas_Practice) тетрадок по Pandas\n",
    "1. [Еще тетрадки по pandas](https://github.com/jupyter/jupyter/wiki#a-gallery-of-interesting-jupyter-notebooks)\n",
    "1. [Pandas для больших данных](https://habr.com/ru/companies/ruvds/articles/442516/) \n"
   ]
  }
 ],
 "metadata": {
  "kernelspec": {
   "display_name": "Python 3 (ipykernel)",
   "language": "python",
   "name": "python3"
  },
  "language_info": {
   "codemirror_mode": {
    "name": "ipython",
    "version": 3
   },
   "file_extension": ".py",
   "mimetype": "text/x-python",
   "name": "python",
   "nbconvert_exporter": "python",
   "pygments_lexer": "ipython3",
   "version": "3.10.12"
  }
 },
 "nbformat": 4,
 "nbformat_minor": 5
}
