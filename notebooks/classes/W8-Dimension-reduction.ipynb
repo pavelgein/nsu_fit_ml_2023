{
 "cells": [
  {
   "cell_type": "markdown",
   "id": "fc013981",
   "metadata": {},
   "source": [
    "$\\DeclareMathOperator{\\sign}{sign}$\n",
    "$\\DeclareMathOperator{\\argmin}{argmin}$\n",
    "$\\DeclareMathOperator{\\argmax}{argmax}$\n",
    "$\\DeclareMathOperator{\\grad}{grad}$\n",
    "$\\DeclareMathOperator{\\tr}{tr}$\n",
    "$\\DeclareMathOperator{\\exp}{exp}$"
   ]
  },
  {
   "cell_type": "markdown",
   "id": "0f73eee5",
   "metadata": {},
   "source": [
    "# Снижение размерности"
   ]
  },
  {
   "cell_type": "markdown",
   "id": "8c566b8d",
   "metadata": {},
   "source": [
    "## MNIST \n",
    "Рукописные изображения цифр от 0 до 10."
   ]
  },
  {
   "cell_type": "code",
   "execution_count": 22,
   "id": "e83860fb",
   "metadata": {},
   "outputs": [
    {
     "name": "stdout",
     "output_type": "stream",
     "text": [
      "(1797, 64)\n"
     ]
    },
    {
     "data": {
      "text/plain": [
       "<Figure size 640x480 with 0 Axes>"
      ]
     },
     "metadata": {},
     "output_type": "display_data"
    },
    {
     "data": {
      "image/png": "[encoded data removed]",
      "text/plain": [
       "<Figure size 480x480 with 1 Axes>"
      ]
     },
     "metadata": {},
     "output_type": "display_data"
    }
   ],
   "source": [
    "from sklearn.datasets import load_digits\n",
    "digits = load_digits()\n",
    "print(digits.data.shape)\n",
    "import matplotlib.pyplot as plt\n",
    "plt.gray()\n",
    "plt.matshow(digits.images[25])\n",
    "plt.show()"
   ]
  },
  {
   "cell_type": "markdown",
   "id": "1e1ebb2e",
   "metadata": {},
   "source": [
    "Разобьем на обучение и валидацию"
   ]
  },
  {
   "cell_type": "code",
   "execution_count": 2,
   "id": "6c7eb3c6",
   "metadata": {},
   "outputs": [
    {
     "name": "stdout",
     "output_type": "stream",
     "text": [
      "(1437, 64)\n",
      "(1437,)\n",
      "(360, 64)\n",
      "(360,)\n"
     ]
    }
   ],
   "source": [
    "from sklearn.model_selection import train_test_split\n",
    "\n",
    "all_x = digits.images.reshape(digits.images.shape[0], -1)\n",
    "all_y = digits.target\n",
    "\n",
    "x_train, x_test, y_train, y_test = train_test_split(all_x, all_y, test_size=0.2, random_state=42)\n",
    "print(x_train.shape)\n",
    "print(y_train.shape)\n",
    "print(x_test.shape)\n",
    "print(y_test.shape)"
   ]
  },
  {
   "cell_type": "markdown",
   "id": "9bad4718",
   "metadata": {},
   "source": [
    "## KNN"
   ]
  },
  {
   "cell_type": "code",
   "execution_count": 7,
   "id": "64616541",
   "metadata": {},
   "outputs": [
    {
     "name": "stdout",
     "output_type": "stream",
     "text": [
      "KNN best params: {'n_neighbors': 1}\n",
      "KNN: 0.9777777777777777\n"
     ]
    }
   ],
   "source": [
    "from sklearn.metrics import accuracy_score\n",
    "from sklearn.model_selection import GridSearchCV\n",
    "from sklearn.neighbors import KNeighborsClassifier as KNN\n",
    "\n",
    "n_neighbors = [1, 2, 3, 4, 5, 10]\n",
    "\n",
    "knn = GridSearchCV(KNN(), param_grid={'n_neighbors': n_neighbors}, n_jobs=-1, scoring='accuracy')\n",
    "knn.fit(x_train, y_train)\n",
    "\n",
    "predicted = knn.best_estimator_.predict(x_test)\n",
    "print('KNN best params:', knn.best_params_)\n",
    "print('KNN:', accuracy_score(y_test, predicted))"
   ]
  },
  {
   "cell_type": "markdown",
   "id": "cecb2493",
   "metadata": {},
   "source": [
    "Нормализируем все данные"
   ]
  },
  {
   "cell_type": "code",
   "execution_count": 4,
   "id": "90be6889",
   "metadata": {},
   "outputs": [
    {
     "name": "stdout",
     "output_type": "stream",
     "text": [
      "KNN best params: {'n_neighbors': 3}\n",
      "KNN on scaled: 0.9694444444444444\n"
     ]
    }
   ],
   "source": [
    "from sklearn.preprocessing import StandardScaler\n",
    "scaler = StandardScaler().fit(x_train)\n",
    "\n",
    "x_train_scaled = scaler.transform(x_train)\n",
    "x_test_scaled = scaler.transform(x_test)\n",
    "\n",
    "knn_scaled = GridSearchCV(KNN(), param_grid={'n_neighbors': n_neighbors}, n_jobs=-1, scoring='accuracy')\n",
    "knn_scaled.fit(x_train_scaled, y_train)\n",
    "\n",
    "predicted = knn_scaled.predict(x_test_scaled)\n",
    "print('KNN best params:', knn_scaled.best_params_)\n",
    "print('KNN on scaled:', accuracy_score(y_test, predicted))"
   ]
  },
  {
   "cell_type": "code",
   "execution_count": 5,
   "id": "7ca0b92c",
   "metadata": {},
   "outputs": [
    {
     "name": "stdout",
     "output_type": "stream",
     "text": [
      "KNN best params: {'n_neighbors': 1}\n",
      "KNN on scaled: 0.9833333333333333\n"
     ]
    }
   ],
   "source": [
    "from sklearn.preprocessing import StandardScaler, Normalizer\n",
    "normalizer = Normalizer().fit(x_train)\n",
    "\n",
    "x_train_normalized = normalizer.transform(x_train)\n",
    "x_test_normalized = normalizer.transform(x_test)\n",
    "\n",
    "knn_normalized = GridSearchCV(KNN(), param_grid={'n_neighbors': n_neighbors}, n_jobs=-1, scoring='accuracy')\n",
    "knn_normalized.fit(x_train_normalized, y_train)\n",
    "\n",
    "predicted = knn_normalized.predict(x_test_normalized)\n",
    "print('KNN best params:', knn_normalized.best_params_)\n",
    "print('KNN on scaled:', accuracy_score(y_test, predicted))"
   ]
  },
  {
   "cell_type": "markdown",
   "id": "67222250",
   "metadata": {},
   "source": [
    "NB: вообще, для того чтобы сделать два шага как один, в scikit-learn есть специальный класс [Pipeline](https://scikit-learn.org/stable/modules/generated/sklearn.pipeline.Pipeline.html). "
   ]
  },
  {
   "cell_type": "markdown",
   "id": "fe2b362c",
   "metadata": {},
   "source": [
    "## Метод главных компонент\n",
    "Метод клавных компонент (Principal Component Analysis) — линейный метод понижения размерности.\n",
    "\n",
    "### Идея \n",
    "Давайте найдем такое линейное многообразие (прямую, плоскость, ...), чтобы сумма отклонений точек из датасета до него была минимальна.\n",
    "\n",
    "Статитически, это можно интерпритировать, как выбор направлений, дисперсия проекций на которые максимальна.\n",
    "\n",
    "С точки зрения линейной алгебры, такое многообразие может быть найдено из сингулярного разложения матрицы, у которой в строках записаны координаты исходных точек\n",
    "\n",
    "### Сингулярное разложение (Singluar Value Decomposition — SVD).\n",
    "Пусть $A$ — некоторая вещественная $m\\times n$ матрица, \n",
    "$V, U$ — две ортогональные матрицы размеров $m\\times m$ и $n\\times n$ соответственно,\n",
    "$\\Sigma$ — диагональная матрица размера $m\\times n$ с неотрицательные элементами на диагонали, расположенные по невозрастанию.\n",
    "\n",
    "$$\\Sigma = \\begin{pmatrix}\n",
    "    \\sigma_1 & 0 & 0 & \\ldots & 0 & 0\\\\\n",
    "    0 & \\sigma_2 & 0 & \\ldots & 0 & 0\\\\\n",
    "    & & \\ldots \\\\\n",
    "    0 & \\ldots & 0 & \\sigma_m & 0 & 0\n",
    "\\end{pmatrix}, \\sigma_1\\geqslant \\sigma_2 \\geqslant \\ldots \\sigma_m\\geqslant 0.\n",
    "$$\n",
    "\n",
    "*(Матрица $A$ называется ортогональной, если $AA^T = E$)*\n",
    "\n",
    "Если выполняется равенство $A = V\\Sigma U^T$,\n",
    "то матрицы $V$, $\\Sigma$ и $U$ образуют *сингулярное разложение* матрицы $A$, \n",
    "\n",
    "Матрицы $V, U$ состоят из левых и правых соответсвенно *синулярных векторов* матрицы $A$, \n",
    "числа $\\sigma_i$ называюся *сингулярными числами* матрицы $A$.\n",
    "\n",
    "\n",
    "Квадраты сингулярных чисел матрицы $A$ могут быть найдены как собственные числа матрицы $AA^T$, а левые и правые сингулряные векторы — как собственные векторы матриц $AA^T$ и $A^TA$ соответственно. \n",
    "\n",
    "\n",
    "### Выбор числа компонент\n",
    "#### Правило Кайзера\n",
    "Выбираем собственные числа, удовлтворяющие условию\n",
    "$$\n",
    "    \\sigma_i \\geqslant \\frac{1}{n}\\tr A\n",
    "$$\n",
    "\n",
    "Также есть и другие способы, например Правило сломанной трости или с помощью чисел обусловенности"
   ]
  },
  {
   "cell_type": "code",
   "execution_count": 8,
   "id": "3eb6c1c8",
   "metadata": {},
   "outputs": [
    {
     "name": "stdout",
     "output_type": "stream",
     "text": [
      "KNN with PCA best params: {'n_neighbors': 1}\n",
      "KNN with PCA: 0.9833333333333333\n"
     ]
    }
   ],
   "source": [
    "from sklearn.decomposition import PCA\n",
    "\n",
    "pca = PCA(n_components=10)\n",
    "pca.fit(x_train)\n",
    "\n",
    "x_train_after_pca = pca.transform(x_train)\n",
    "x_test_after_pca = pca.transform(x_test)\n",
    "\n",
    "knn_pca = GridSearchCV(KNN(), param_grid={'n_neighbors': n_neighbors}, n_jobs=-1, scoring='accuracy')\n",
    "knn_pca.fit(x_train_after_pca, y_train)\n",
    "\n",
    "predicted = knn_pca.best_estimator_.predict(x_test_after_pca)\n",
    "print('KNN with PCA best params:', knn_pca.best_params_)\n",
    "print('KNN with PCA:', accuracy_score(y_test, predicted))"
   ]
  },
  {
   "cell_type": "markdown",
   "id": "130437e3",
   "metadata": {},
   "source": [
    "### Плюсы и минусы PCA\n",
    "- выучивает преобразование данных, которое может быть применено к новым данным\n",
    "- можно разменять качество на скорость, выбрав нужное число компонент\n",
    "\n",
    "- является линейным преобразованием, достаточно ограниченная выразимость"
   ]
  },
  {
   "cell_type": "markdown",
   "id": "74263c0b",
   "metadata": {},
   "source": [
    "##  t-distributed Stochastic Neighbor Embedding, t-SNE\n",
    "\n",
    "### Идея\n",
    "Давайте попробуем построить такое отображение, которое близкие точки будет отображать в близкие точки, а далекие — в далекие.\n",
    "\n",
    "### Детали\n",
    "Пусть даны точки $x_1, x_2, \\ldots, x_n$, хотим получить точки $y_1, y_2, \\ldots, y_n$.\n",
    "\n",
    "Определим похожесть точек $x_i$ и $x_j, (i\\neq j)$ как\n",
    "$$\n",
    "p_{j|i} = \\cfrac{e^{-\\frac{\\lVert x_i - x_j\\rVert^2}{2\\sigma_i^2}}}{\\sum\\limits_{k\\neq i}e^{-\\frac{\\lVert x_i - x_k\\rVert^2}{2\\sigma_i^2}}}.\n",
    "$$\n",
    "\n",
    "Положим\n",
    "$$p_{ij} = \\frac{p_{j|i} + p_{i|j}}{2n}.$$\n",
    "\n",
    "$\\sigma_i$ подбирается под данные, при этом в более плотных областях она оказывается меньше, а в более разреженных — больше.\n",
    "\n",
    "\n",
    "На искомых точках определим похожесть как \n",
    "\n",
    "$$\n",
    "{\\displaystyle q_{ij}={\\frac {(1+\\lVert {y} _{i}-{y} _{j}\\rVert ^{2})^{-1}}{\\sum\\limits_{k\\neq l}(1+\\lVert  {y} _{k}- {y} _{l}\\rVert ^{2})^{-1}}}}\n",
    "$$.\n",
    "\n",
    "Точки получаются минимиируя дивергенцию Кульбака-Лейбнера между распредлениями $p$ и $q$.\n",
    "\n",
    "### Дивергенция Кульбака-Лейбнера\n",
    "\n",
    "Пусть $P$ и $Q$ - два дискретны вероятностных распределения, принимающие значения в множестве $\\mathcal {X}.$\n",
    "\n",
    "$${\\displaystyle D_{\\text{KL}}(P\\parallel Q)=\\sum _{x\\in {\\mathcal {X}}}P(x)\\log \\left({\\frac {P(x)}{Q(x)}}\\right)}$$\n",
    "\n",
    "\n",
    "Свойства:\n",
    "1) $D_{\\text{KL}}(P\\parallel Q) \\geqslant 0$ \n",
    "2) $D_{\\text{KL}}(P\\parallel Q) = 0 \\Leftrightarrow P = Q$ (почти всюду)\n",
    "\n",
    "Неформально, $D_{\\text{KL}}(P\\parallel Q)$ равна потере информации при замене распределния $P$ на $Q$."
   ]
  },
  {
   "cell_type": "markdown",
   "id": "4807b2cd",
   "metadata": {},
   "source": [
    "### t-SNE и MNIST"
   ]
  },
  {
   "cell_type": "code",
   "execution_count": 13,
   "id": "2264f10c",
   "metadata": {},
   "outputs": [],
   "source": [
    "from sklearn.manifold import TSNE\n",
    "\n",
    "tsne = TSNE(n_components=2)\n",
    "x_transformed = tsne.fit_transform(x_train)"
   ]
  },
  {
   "cell_type": "code",
   "execution_count": 20,
   "id": "6b5c9ce0",
   "metadata": {},
   "outputs": [
    {
     "data": {
      "text/plain": [
       "<matplotlib.legend.Legend at 0x123217580>"
      ]
     },
     "execution_count": 20,
     "metadata": {},
     "output_type": "execute_result"
    },
    {
     "data": {
      "image/png": "[encoded data removed]",
      "text/plain": [
       "<Figure size 640x480 with 1 Axes>"
      ]
     },
     "metadata": {},
     "output_type": "display_data"
    }
   ],
   "source": [
    "for digit in range(10):\n",
    "    mask = y_train == digit\n",
    "    plt.scatter(x_transformed[mask, 0], x_transformed[mask, 1], label=str(digit))\n",
    "    \n",
    "plt.legend()"
   ]
  },
  {
   "cell_type": "markdown",
   "id": "9d6f4f4f",
   "metadata": {},
   "source": [
    "## UMap\n",
    "Использует похожую идею из $t-SNE$, но мы не будем разбирать подробно"
   ]
  },
  {
   "cell_type": "markdown",
   "id": "c9206ba1",
   "metadata": {},
   "source": [
    "## Ссылки\n",
    "1. van der Maaten L.J.P., Hinton G.E. Visualizing Data Using t-SNE // Journal of Machine Learning Research. — 2008. — Ноябрь (т. 9). [Ссылка](https://jmlr.org/papers/volume9/vandermaaten08a/vandermaaten08a.pdf)\n",
    "2. [Презентация](https://speakerdeck.com/lmcinnes/umap-uniform-manifold-approximation-and-projection-for-dimension-reduction?slide=16) автора алгоритма Umap"
   ]
  }
 ],
 "metadata": {
  "kernelspec": {
   "display_name": "Python 3 (ipykernel)",
   "language": "python",
   "name": "python3"
  },
  "language_info": {
   "codemirror_mode": {
    "name": "ipython",
    "version": 3
   },
   "file_extension": ".py",
   "mimetype": "text/x-python",
   "name": "python",
   "nbconvert_exporter": "python",
   "pygments_lexer": "ipython3",
   "version": "3.10.12"
  }
 },
 "nbformat": 4,
 "nbformat_minor": 5
}
