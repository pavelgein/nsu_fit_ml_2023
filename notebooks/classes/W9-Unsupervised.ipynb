{
 "cells": [
  {
   "cell_type": "markdown",
   "id": "02f9f3e0",
   "metadata": {},
   "source": [
    "# Обучение без учителя"
   ]
  },
  {
   "cell_type": "markdown",
   "id": "82de24dd",
   "metadata": {},
   "source": [
    "## Разделение смеси распределений. EM-алгоритм\n",
    "Плотность распредления\n",
    "\n",
    "\n",
    "**Задача**: пусть есть несколько нормальных распределений $N(\\mu_j, \\sigma_j), j = 1, 2, \\ldots, k$ и множетство точек $x_i, i = 1, \\ldots N, $ каджая из которых сгенерирована из некоторого распределения.\n",
    "Нужно восстановить параметры $$"
   ]
  },
  {
   "cell_type": "markdown",
   "id": "31d39bf7",
   "metadata": {},
   "source": [
    "## Кластеризация"
   ]
  },
  {
   "cell_type": "markdown",
   "id": "b4002cac",
   "metadata": {},
   "source": [
    "## Метрики кластеризации"
   ]
  },
  {
   "cell_type": "markdown",
   "id": "23efc9c3",
   "metadata": {},
   "source": [
    "### KMeans"
   ]
  },
  {
   "cell_type": "markdown",
   "id": "833861ce",
   "metadata": {},
   "source": [
    "### DBScan"
   ]
  },
  {
   "cell_type": "markdown",
   "id": "acf252e6",
   "metadata": {},
   "source": [
    "### Иерархическая кластеризация"
   ]
  },
  {
   "cell_type": "markdown",
   "id": "e5463b57",
   "metadata": {},
   "source": [
    "### Ссылки\n",
    "1. [Лекция](http://www.machinelearning.ru/wiki/images/e/ed/Voron-ML-Bayes.pdf) К.В. Воронцова про баесовые методы\n",
    "1. E.Amigó et at. A comparison of Extrinsic Clustering Evaluation Metrics based on Formal Constraints http://nlp.uned.es/docs/amigo2007a.pdf"
   ]
  }
 ],
 "metadata": {
  "kernelspec": {
   "display_name": "Python 3 (ipykernel)",
   "language": "python",
   "name": "python3"
  },
  "language_info": {
   "codemirror_mode": {
    "name": "ipython",
    "version": 3
   },
   "file_extension": ".py",
   "mimetype": "text/x-python",
   "name": "python",
   "nbconvert_exporter": "python",
   "pygments_lexer": "ipython3",
   "version": "3.10.12"
  }
 },
 "nbformat": 4,
 "nbformat_minor": 5
}
