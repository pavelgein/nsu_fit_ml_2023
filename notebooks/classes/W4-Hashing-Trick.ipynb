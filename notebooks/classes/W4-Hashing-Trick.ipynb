{
 "cells": [
  {
   "cell_type": "markdown",
   "id": "6cded339",
   "metadata": {},
   "source": [
    "# Hashing trick. Библиотека Vowpal Wabbit"
   ]
  },
  {
   "cell_type": "markdown",
   "id": "e53d800e",
   "metadata": {},
   "source": [
    "### Hashing Trick\n",
    "One hot encoding — просто и понятно, но \n",
    "1) дорого по ресурсам\n",
    "2) может быть вычислительно неусточиво из-за большого числа категорий\n",
    "\n",
    "\n",
    "Давайте вместо этого от признака возьмем его Hash по некоторому модулю N. Тогда для каждого категориального признака будет N значений"
   ]
  },
  {
   "cell_type": "markdown",
   "id": "62e19de1",
   "metadata": {},
   "source": [
    "Spam dataset https://www.kaggle.com/datasets/venky73/spam-mails-dataset/"
   ]
  },
  {
   "cell_type": "code",
   "execution_count": 5,
   "id": "205921ab",
   "metadata": {},
   "outputs": [],
   "source": [
    "import pandas as pd"
   ]
  },
  {
   "cell_type": "code",
   "execution_count": 8,
   "id": "49cfbcfe",
   "metadata": {},
   "outputs": [],
   "source": [
    "data = pd.read_csv('../../data/spam/spam_ham_dataset.csv', index_col=0)"
   ]
  },
  {
   "cell_type": "code",
   "execution_count": 12,
   "id": "39bc6538",
   "metadata": {},
   "outputs": [],
   "source": [
    "data.loc[:, 'email_text'] = data['text'].apply(lambda x: x.split('\\n', 1)[1])"
   ]
  },
  {
   "cell_type": "code",
   "execution_count": 33,
   "id": "d03f5b5e",
   "metadata": {},
   "outputs": [
    {
     "data": {
      "text/html": [
       "<div>\n",
       "<style scoped>\n",
       "    .dataframe tbody tr th:only-of-type {\n",
       "        vertical-align: middle;\n",
       "    }\n",
       "\n",
       "    .dataframe tbody tr th {\n",
       "        vertical-align: top;\n",
       "    }\n",
       "\n",
       "    .dataframe thead th {\n",
       "        text-align: right;\n",
       "    }\n",
       "</style>\n",
       "<table border=\"1\" class=\"dataframe\">\n",
       "  <thead>\n",
       "    <tr style=\"text-align: right;\">\n",
       "      <th></th>\n",
       "      <th>label</th>\n",
       "      <th>text</th>\n",
       "      <th>label_num</th>\n",
       "      <th>email_text</th>\n",
       "      <th>clean_text</th>\n",
       "    </tr>\n",
       "  </thead>\n",
       "  <tbody>\n",
       "    <tr>\n",
       "      <th>605</th>\n",
       "      <td>ham</td>\n",
       "      <td>Subject: enron methanol ; meter # : 988291\\r\\n...</td>\n",
       "      <td>0</td>\n",
       "      <td>this is a follow up to the note i gave you on ...</td>\n",
       "      <td>Subject enron methanol meter 988291 this is a ...</td>\n",
       "    </tr>\n",
       "    <tr>\n",
       "      <th>2349</th>\n",
       "      <td>ham</td>\n",
       "      <td>Subject: hpl nom for january 9 , 2001\\r\\n( see...</td>\n",
       "      <td>0</td>\n",
       "      <td>( see attached file : hplnol 09 . xls )\\r\\n- h...</td>\n",
       "      <td>Subject hpl nom for january 9 2001 see attache...</td>\n",
       "    </tr>\n",
       "    <tr>\n",
       "      <th>3624</th>\n",
       "      <td>ham</td>\n",
       "      <td>Subject: neon retreat\\r\\nho ho ho , we ' re ar...</td>\n",
       "      <td>0</td>\n",
       "      <td>ho ho ho , we ' re around to that most wonderf...</td>\n",
       "      <td>Subject neon retreat ho ho ho we re around to ...</td>\n",
       "    </tr>\n",
       "    <tr>\n",
       "      <th>4685</th>\n",
       "      <td>spam</td>\n",
       "      <td>Subject: photoshop , windows , office . cheap ...</td>\n",
       "      <td>1</td>\n",
       "      <td>abasements darer prudently fortuitous undergon...</td>\n",
       "      <td>Subject photoshop windows office cheap main tr...</td>\n",
       "    </tr>\n",
       "    <tr>\n",
       "      <th>2030</th>\n",
       "      <td>ham</td>\n",
       "      <td>Subject: re : indian springs\\r\\nthis deal is t...</td>\n",
       "      <td>0</td>\n",
       "      <td>this deal is to book the teco pvr revenue . it...</td>\n",
       "      <td>Subject re indian springs this deal is to book...</td>\n",
       "    </tr>\n",
       "  </tbody>\n",
       "</table>\n",
       "</div>"
      ],
      "text/plain": [
       "     label                                               text  label_num  \\\n",
       "605    ham  Subject: enron methanol ; meter # : 988291\\r\\n...          0   \n",
       "2349   ham  Subject: hpl nom for january 9 , 2001\\r\\n( see...          0   \n",
       "3624   ham  Subject: neon retreat\\r\\nho ho ho , we ' re ar...          0   \n",
       "4685  spam  Subject: photoshop , windows , office . cheap ...          1   \n",
       "2030   ham  Subject: re : indian springs\\r\\nthis deal is t...          0   \n",
       "\n",
       "                                             email_text  \\\n",
       "605   this is a follow up to the note i gave you on ...   \n",
       "2349  ( see attached file : hplnol 09 . xls )\\r\\n- h...   \n",
       "3624  ho ho ho , we ' re around to that most wonderf...   \n",
       "4685  abasements darer prudently fortuitous undergon...   \n",
       "2030  this deal is to book the teco pvr revenue . it...   \n",
       "\n",
       "                                             clean_text  \n",
       "605   Subject enron methanol meter 988291 this is a ...  \n",
       "2349  Subject hpl nom for january 9 2001 see attache...  \n",
       "3624  Subject neon retreat ho ho ho we re around to ...  \n",
       "4685  Subject photoshop windows office cheap main tr...  \n",
       "2030  Subject re indian springs this deal is to book...  "
      ]
     },
     "execution_count": 33,
     "metadata": {},
     "output_type": "execute_result"
    }
   ],
   "source": [
    "data.head()"
   ]
  },
  {
   "cell_type": "code",
   "execution_count": 17,
   "id": "2ace4085",
   "metadata": {},
   "outputs": [],
   "source": [
    "import re\n",
    "\n",
    "def clean_text(text):\n",
    "    clean = []\n",
    "    for c in text:\n",
    "        if c.isalnum() or c.isspace():\n",
    "            clean.append(c)\n",
    "            \n",
    "    clean_text = ''.join(clean)\n",
    "    return re.sub('\\\\s+', ' ', clean_text)"
   ]
  },
  {
   "cell_type": "code",
   "execution_count": 20,
   "id": "d69a9b5c",
   "metadata": {},
   "outputs": [],
   "source": [
    "data.loc[:, 'clean_text'] = data['text'].apply(clean_text)"
   ]
  },
  {
   "cell_type": "markdown",
   "id": "eeb06db7",
   "metadata": {},
   "source": [
    "### Формат данных для WV\n",
    "\n",
    "target | f_1 f_2 f_3 f_3:w_4 | g_1 g_2 g_3 "
   ]
  },
  {
   "cell_type": "code",
   "execution_count": 25,
   "id": "5c1e3d9c",
   "metadata": {},
   "outputs": [],
   "source": [
    "def data_to_vw_format(data_frame, path):\n",
    "    with open(path, 'w', encoding='utf-8') as output:\n",
    "        for _, row in data_frame.iterrows():\n",
    "            target = row['label_num']\n",
    "            features = row['clean_text']\n",
    "            output.write(str(target))\n",
    "            output.write(' | ')\n",
    "            output.write(features)\n",
    "            output.write('\\n')"
   ]
  },
  {
   "cell_type": "code",
   "execution_count": 26,
   "id": "af41c387",
   "metadata": {},
   "outputs": [],
   "source": [
    "n_rows = len(data)\n",
    "train_size = int(0.75 * n_rows)\n",
    "\n",
    "train = data.iloc[:train_size]\n",
    "test = data.iloc[train_size:]"
   ]
  },
  {
   "cell_type": "code",
   "execution_count": 27,
   "id": "eeca38c5",
   "metadata": {},
   "outputs": [],
   "source": [
    "data_to_vw_format(train, 'train.txt')\n",
    "data_to_vw_format(test, 'test.txt')"
   ]
  },
  {
   "cell_type": "code",
   "execution_count": 28,
   "id": "279243a0",
   "metadata": {},
   "outputs": [
    {
     "name": "stdout",
     "output_type": "stream",
     "text": [
      "0 | Subject enron methanol meter 988291 this is a follow up to the note i gave you on monday 4 3 00 preliminary flow data provided by daren please override pop s daily volume presently zero to reflect daily activity you can obtain from gas control this change is needed asap for economics purposes \r\n",
      "0 | Subject hpl nom for january 9 2001 see attached file hplnol 09 xls hplnol 09 xls\r\n",
      "0 | Subject neon retreat ho ho ho we re around to that most wonderful time of the year neon leaders retreat time i know that this time of year is extremely hectic and that it s tough to think about anything past the holidays but life does go on past the week of december 25 through january 1 and that s what i d like you to think about for a minute on the calender that i handed out at the beginning of the fall semester the retreat was scheduled for the weekend of january 5 6 but because of a youth ministers conference that brad and dustin are connected with that week we re going to change the date to the following weekend january 12 13 now comes the part you need to think about i think we all agree that it s important for us to get together and have some time to recharge our batteries before we get to far into the spring semester but it can be a lot of trouble and difficult for us to get away without kids etc so brad came up with a potential alternative for how we can get together on that weekend and then you can let me know which you prefer the first option would be to have a retreat similar to what we ve done the past several years this year we could go to the heartland country inn www com outside of brenham it s a nice place where we d have a 13 bedroom and a 5 bedroom house side by side it s in the country real relaxing but also close to brenham and only about one hour and 15 minutes from here we can golf shop in the antique and craft stores in brenham eat dinner together at the ranch and spend time with each other we d meet on saturday and then return on sunday morning just like what we ve done in the past the second option would be to stay here in houston have dinner together at a nice restaurant and then have dessert and a time for visiting and recharging at one of our homes on that saturday evening this might be easier but the trade off would be that we wouldn t have as much time together i ll let you decide email me back with what would be your preference and of course if you re available on that weekend the democratic process will prevail majority vote will rule let me hear from you as soon as possible preferably by the end of the weekend and if the vote doesn t go your way no complaining allowed like i tend to do have a great weekend great golf great fishing great shopping or whatever makes you happy bobby\r\n",
      "1 | Subject photoshop windows office cheap main trending abasements darer prudently fortuitous undergone lighthearted charm orinoco taster railroad affluent pornographic cuvier irvin parkhouse blameworthy chlorophyll robed diagrammatic fogarty clears bayda inconveniencing managing represented smartness hashish academies shareholders unload badness danielson pure caffein spaniard chargeable levin \r\n",
      "0 | Subject re indian springs this deal is to book the teco pvr revenue it is my understanding that teco just sends us a check i haven t received an answer as to whether there is a predermined price associated with this deal or if teco just lets us know what we are giving i can continue to chase this deal down if you need \r\n",
      "0 | Subject ehronline web address change this message is intended for ehronline users only due to a recent change to ehronline the url aka web address for accessing ehronline needs to be changed on your computer the change involves adding the letter s to the http reference in the url the url for accessing ehronline should be https ehronline enron com this change should be made by those who have added the url as a favorite on the browser \r\n",
      "0 | Subject spring savings certificate take 30 off save 30 when you use our customer appreciation spring savings certificate at foot locker lady foot locker kids foot locker and at our online stores welcome to our customer appreciation spring savings certificate use the special certificate below and receive 30 off your purchases either in our stores or online hurry this 4 day sale begins thursday march 22 and ends sunday march 25 share the savings today and e mail this offer to your friends many items already are reduced and the 30 discount is taken off the lowest sale price click below to print your customer appreciation spring savings certificate you must present this coupon at any foot locker lady foot locker or kids foot locker store in the u s foot locker canada is not participating in this program ready set save our spring savings discount will automatically appear when you use the links below or type camlem 21 into the promotion code box during checkout footlocker com certificate code camlem 21 ladyfootlocker com certificate code camlem 21 kidsfootlocker com certificate code camlem 21 remember returns are hassle free simply bring your items to any of our stores nationwide or through the mail don t be left out register today to learn about our new products promotions events and other specials simply click below terms and conditions some exclusions apply please see manager for complete details certificate must be presented at the time of purchase and cannot be used in conjunction with any other discount offer or associate benefit not redeemable for cash applicable taxes must be paid by bearer cannot be applied to prior purchases or to gift card purchases void where prohibited licensed or regulated catalog exclusions apply valid thursday 3 22 01 through sunday 3 25 01 foot locker canada will not participate in this program if you do not wish to receive future emails please click below to unsubscribe \r\n",
      "1 | Subject looking for medication we re the best source it is difficult to make our material condition better by the best law but it is easy enough to ruin it by bad laws excuse me you just found the best and simpliest site for medication on the net no perscription easy delivery private secure and easy better see rightly on a pound a week than squint on a million we ve got anything that you will ever want erection treatment pills anti depressant pills weight loss and more http splicings bombahakcx com 3 knowledge and human power are synonymous only high quality stuff for low rates 100 moneyback guarantee there is no god nature sufficeth unto herself in no wise hath she need of an author \r\n",
      "0 | Subject noms actual flow for 2 26 we agree forwarded by melissa jones texas utilities on 02 27 2001 10 33 am eileen ponton on 02 27 2001 09 46 26 am to david avila lsp enserch us tu charlie stone texas utilities tu melissa jones texas utilities tu hpl scheduling enron com liz bellamy enron com cc subject noms actual flow for 2 26 date nom flow mcf flow mmbtu 2 26 01 0 456 469 btu 1 027\r\n",
      "0 | Subject nominations for oct 21 23 2000 see attached file hplnl 021 xls hplnl 021 xls\r\n"
     ]
    }
   ],
   "source": [
    "!head train.txt"
   ]
  },
  {
   "cell_type": "code",
   "execution_count": 34,
   "id": "63bef0e4",
   "metadata": {},
   "outputs": [
    {
     "name": "stdout",
     "output_type": "stream",
     "text": [
      "final_regressor = vw_model.bin\n",
      "using no cache\n",
      "Reading datafile = train.txt\n",
      "num sources = 1\n",
      "Num weight bits = 18\n",
      "learning rate = 0.5\n",
      "initial_t = 0\n",
      "power_t = 0.5\n",
      "Enabled learners: gd, scorer-identity, count_label\n",
      "Input label = SIMPLE\n",
      "Output pred = SCALAR\n",
      "average  since         example        example        current        current  current\n",
      "loss     last          counter         weight          label        predict features\n",
      "0.693147 0.693147            1            1.0         0.0000         0.0000       54\n",
      "0.693147 0.693147            2            2.0         0.0000         0.0000       17\n",
      "0.693147 0.693147            4            4.0         1.0000         0.0000       45\n",
      "0.692047 0.690947            8            8.0         1.0000         0.0203      127\n",
      "0.596534 0.501020           16           16.0         1.0000        16.3499     1423\n",
      "0.661809 0.727083           32           32.0         0.0000         0.2072       26\n",
      "0.827191 0.992573           64           64.0         0.0000        -0.0103       79\n",
      "0.726880 0.626570          128          128.0         0.0000         0.5837       84\n",
      "0.699643 0.672406          256          256.0         1.0000         1.1419      124\n",
      "0.664993 0.630343          512          512.0         0.0000        -0.2374      200\n",
      "0.669330 0.673667         1024         1024.0         0.0000         0.3862       61\n",
      "0.645682 0.622035         2048         2048.0         0.0000         1.0548       72\n",
      "\n",
      "finished run\n",
      "number of examples = 3878\n",
      "weighted example sum = 3878.000000\n",
      "weighted label sum = 1099.000000\n",
      "average loss = 0.623520\n",
      "best constant = -0.927690\n",
      "best constant's loss = 0.596130\n",
      "total feature number = 642408\n"
     ]
    }
   ],
   "source": [
    "!vw -d train.txt -f vw_model.bin --loss_function logistic"
   ]
  }
 ],
 "metadata": {
  "kernelspec": {
   "display_name": "Python 3 (ipykernel)",
   "language": "python",
   "name": "python3"
  },
  "language_info": {
   "codemirror_mode": {
    "name": "ipython",
    "version": 3
   },
   "file_extension": ".py",
   "mimetype": "text/x-python",
   "name": "python",
   "nbconvert_exporter": "python",
   "pygments_lexer": "ipython3",
   "version": "3.10.12"
  }
 },
 "nbformat": 4,
 "nbformat_minor": 5
}
