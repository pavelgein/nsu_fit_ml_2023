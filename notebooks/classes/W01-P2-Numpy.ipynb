{
 "cells": [
  {
   "cell_type": "markdown",
   "id": "e879f436",
   "metadata": {},
   "source": [
    "# Библиотека Numpy\n",
    "\n",
    "<img src=https://numpy.org/images/logo.svg width=\"200\" />\n"
   ]
  },
  {
   "cell_type": "code",
   "execution_count": 1,
   "id": "6638f6bc",
   "metadata": {},
   "outputs": [],
   "source": [
    "import numpy as np"
   ]
  },
  {
   "cell_type": "markdown",
   "id": "39a60db7",
   "metadata": {},
   "source": [
    "## Гланый герой — np.ndarray\n",
    "\n",
    "Реализизует массив произвольной размерности и базовые операции над ними\n",
    "\n",
    "* `np.array` —  создать массив из аргумента (например, из списка)\n",
    "* `.shape` — вернуть кортеж размерностей\n",
    "* `+, *, /, -` — поэлементные операции\n",
    "* `np.dot` — матричное умножение\n",
    "* Другие поэлементные функции `np.sin`, `np.cos`, `np.log`"
   ]
  },
  {
   "cell_type": "markdown",
   "id": "2160fea0",
   "metadata": {},
   "source": [
    "### Создение"
   ]
  },
  {
   "cell_type": "markdown",
   "id": "48465238",
   "metadata": {},
   "source": [
    "* Из списка"
   ]
  },
  {
   "cell_type": "code",
   "execution_count": 3,
   "id": "5277d7b1",
   "metadata": {},
   "outputs": [
    {
     "name": "stdout",
     "output_type": "stream",
     "text": [
      "<class 'numpy.ndarray'>\n"
     ]
    }
   ],
   "source": [
    "ar = np.array([\n",
    "    [1, 2, 3],\n",
    "    [4, 5, 6],\n",
    "])\n",
    "\n",
    "print(type(ar))"
   ]
  },
  {
   "cell_type": "markdown",
   "id": "7ea2f7a0",
   "metadata": {},
   "source": [
    "* `np.arange` — последовательность эелментов с заданной разницей между ними. Поддерживает нецелоцисленную разницу между элементами\n"
   ]
  },
  {
   "cell_type": "code",
   "execution_count": 16,
   "id": "302e68ac",
   "metadata": {},
   "outputs": [
    {
     "name": "stdout",
     "output_type": "stream",
     "text": [
      "[0 1 2 3 4]\n",
      "[0 1 2 3 4]\n",
      "[0.  0.5 1.  1.5 2.  2.5 3.  3.5 4.  4.5]\n"
     ]
    }
   ],
   "source": [
    "print(np.arange(0, 5))\n",
    "print(np.arange(0, 5, 1))\n",
    "print(np.arange(0, 5, 0.5))"
   ]
  },
  {
   "cell_type": "markdown",
   "id": "d8ce7a20",
   "metadata": {},
   "source": [
    "* `np.linspace` — равномерно разделить интервал на заданное число частей"
   ]
  },
  {
   "cell_type": "code",
   "execution_count": 22,
   "id": "fa96a076",
   "metadata": {},
   "outputs": [
    {
     "data": {
      "text/plain": [
       "array([0. , 0.5, 1. , 1.5, 2. , 2.5, 3. , 3.5, 4. , 4.5])"
      ]
     },
     "execution_count": 22,
     "metadata": {},
     "output_type": "execute_result"
    }
   ],
   "source": [
    "np.linspace(0, 4.5, 10)"
   ]
  },
  {
   "cell_type": "markdown",
   "id": "d0b24d9b",
   "metadata": {},
   "source": [
    "* `np.logspace` - равномерно, но в логарифмической шкале"
   ]
  },
  {
   "cell_type": "code",
   "execution_count": 30,
   "id": "60a66cb1",
   "metadata": {},
   "outputs": [
    {
     "data": {
      "text/plain": [
       "array([1.000e+00, 2.000e+00, 4.000e+00, 8.000e+00, 1.600e+01, 3.200e+01,\n",
       "       6.400e+01, 1.280e+02, 2.560e+02, 5.120e+02, 1.024e+03])"
      ]
     },
     "execution_count": 30,
     "metadata": {},
     "output_type": "execute_result"
    }
   ],
   "source": [
    "np.logspace(0, 10, num=11, base=2)"
   ]
  },
  {
   "cell_type": "markdown",
   "id": "223384b7",
   "metadata": {},
   "source": [
    "### Может быть любой размерности"
   ]
  },
  {
   "cell_type": "code",
   "execution_count": 9,
   "id": "df232b2b",
   "metadata": {},
   "outputs": [
    {
     "name": "stdout",
     "output_type": "stream",
     "text": [
      "[[[0]\n",
      "  [1]\n",
      "  [2]]\n",
      "\n",
      " [[3]\n",
      "  [4]\n",
      "  [5]]]\n",
      "(2, 3, 1)\n"
     ]
    }
   ],
   "source": [
    "ar = np.array([\n",
    "    [\n",
    "        [0],\n",
    "        [1],\n",
    "        [2],\n",
    "    ],\n",
    "    [\n",
    "        [3],\n",
    "        [4],\n",
    "        [5],\n",
    "    ]\n",
    "])\n",
    "\n",
    "print(ar)\n",
    "print(ar.shape)"
   ]
  },
  {
   "cell_type": "markdown",
   "id": "d84603e7",
   "metadata": {},
   "source": [
    "### Поменять размерности"
   ]
  },
  {
   "cell_type": "code",
   "execution_count": 13,
   "id": "3cd11bc6",
   "metadata": {},
   "outputs": [
    {
     "name": "stdout",
     "output_type": "stream",
     "text": [
      "[[[0]\n",
      "  [1]\n",
      "  [2]]\n",
      "\n",
      " [[3]\n",
      "  [4]\n",
      "  [5]]]\n",
      "(2, 3, 1)\n",
      "=======\n",
      "[[0 1 2]\n",
      " [3 4 5]]\n",
      "(2, 3)\n"
     ]
    }
   ],
   "source": [
    "ar = np.array([\n",
    "    [\n",
    "        [0],\n",
    "        [1],\n",
    "        [2],\n",
    "    ],\n",
    "    [\n",
    "        [3],\n",
    "        [4],\n",
    "        [5],\n",
    "    ]\n",
    "])\n",
    "\n",
    "print(ar)\n",
    "print(ar.shape)\n",
    "\n",
    "print('=======')\n",
    "\n",
    "ar2 = ar.reshape(2, 3)\n",
    "print(ar2)\n",
    "print(ar2.shape)"
   ]
  },
  {
   "cell_type": "markdown",
   "id": "906b3fa2",
   "metadata": {},
   "source": [
    "### Транспонировать"
   ]
  },
  {
   "cell_type": "code",
   "execution_count": 31,
   "id": "08e70020",
   "metadata": {},
   "outputs": [
    {
     "name": "stdout",
     "output_type": "stream",
     "text": [
      "[[1 2]\n",
      " [3 4]]\n",
      "[[1 3]\n",
      " [2 4]]\n"
     ]
    }
   ],
   "source": [
    "m = np.array([\n",
    "    [1, 2],\n",
    "    [3, 4]\n",
    "])\n",
    "\n",
    "print(m)\n",
    "print(m.transpose())"
   ]
  },
  {
   "cell_type": "code",
   "execution_count": 49,
   "id": "46cd3d00",
   "metadata": {},
   "outputs": [
    {
     "name": "stdout",
     "output_type": "stream",
     "text": [
      "[[[1 2]\n",
      "  [3 4]]\n",
      "\n",
      " [[5 6]\n",
      "  [7 8]]]\n",
      "[[[1 3]\n",
      "  [2 4]]\n",
      "\n",
      " [[5 7]\n",
      "  [6 8]]]\n",
      "[[ True  True]\n",
      " [ True  True]]\n",
      "[[ True  True]\n",
      " [ True  True]]\n"
     ]
    }
   ],
   "source": [
    "t = np.arange(1, 9).reshape(2, 2, 2)\n",
    "\n",
    "t_transposed = t.transpose((0, 2, 1))\n",
    "\n",
    "print(t)\n",
    "print(t_transposed)\n",
    "\n",
    "print(t[0].transpose() == t_transposed[0])\n",
    "print(t[1].transpose() == t_transposed[1])"
   ]
  },
  {
   "cell_type": "markdown",
   "id": "2c454df7",
   "metadata": {},
   "source": [
    "*Грабли*"
   ]
  },
  {
   "cell_type": "code",
   "execution_count": 53,
   "id": "b54d0015",
   "metadata": {},
   "outputs": [
    {
     "name": "stdout",
     "output_type": "stream",
     "text": [
      "[[1 2]\n",
      " [3 4]]\n",
      "[[1 3]\n",
      " [2 4]]\n",
      "1000\n"
     ]
    }
   ],
   "source": [
    "a = np.array([\n",
    "    [1, 2],\n",
    "    [3, 4],\n",
    "])\n",
    "\n",
    "print(a)\n",
    "\n",
    "a_tranposed = a.transpose()\n",
    "print(a_tranposed)\n",
    "a_tranposed[0, 0] = 1000\n",
    "\n",
    "print(a[0, 0])"
   ]
  },
  {
   "cell_type": "markdown",
   "id": "e9434eb8",
   "metadata": {},
   "source": [
    "### Операции"
   ]
  },
  {
   "cell_type": "code",
   "execution_count": 93,
   "id": "27f91903",
   "metadata": {},
   "outputs": [
    {
     "name": "stdout",
     "output_type": "stream",
     "text": [
      "Sum\n",
      "[[2 0]\n",
      " [0 8]]\n",
      "Difference\n",
      "[[0 4]\n",
      " [6 0]]\n",
      "Elementwise product\n",
      "[[ 1 -4]\n",
      " [-9 16]]\n",
      "Matrix product\n",
      "[[-5  6]\n",
      " [-9 10]]\n",
      "Elementwise log\n",
      "[[0.         0.69314718]\n",
      " [1.09861229 1.38629436]]\n",
      "[[ True False]\n",
      " [False  True]]\n",
      "[[False  True]\n",
      " [ True False]]\n"
     ]
    }
   ],
   "source": [
    "a = np.array([\n",
    "    [1, 2],\n",
    "    [3, 4],\n",
    "])\n",
    "b = np.array([\n",
    "    [1, -2],\n",
    "    [-3, 4],\n",
    "])\n",
    "\n",
    "print('Sum')\n",
    "print(a + b)\n",
    "print('Difference')\n",
    "print(a - b)\n",
    "print('Elementwise product')\n",
    "print(a * b)\n",
    "print('Matrix product')\n",
    "print(np.dot(a, b))\n",
    "print('Elementwise log')\n",
    "print(np.log(a))\n",
    "\n",
    "print(a == b)\n",
    "print(a > b)"
   ]
  },
  {
   "cell_type": "markdown",
   "id": "45d9fedb",
   "metadata": {},
   "source": [
    "### Индексирование"
   ]
  },
  {
   "cell_type": "markdown",
   "id": "7d8f878b",
   "metadata": {},
   "source": [
    "* взять один элемент. Для этого надо передать столько индексов, сколько размерностей имеет массив"
   ]
  },
  {
   "cell_type": "code",
   "execution_count": 54,
   "id": "96391650",
   "metadata": {},
   "outputs": [
    {
     "name": "stdout",
     "output_type": "stream",
     "text": [
      "1\n"
     ]
    }
   ],
   "source": [
    "a = np.array([\n",
    "    [1, 2],\n",
    "    [3, 4]\n",
    "])\n",
    "\n",
    "print(a[0, 0])"
   ]
  },
  {
   "cell_type": "markdown",
   "id": "d6698b14",
   "metadata": {},
   "source": [
    "* подмассив (срез, slice). Можно указать меньше индексов, чем надо, тогда будет взят срез.\n",
    "Если вдоль какого-то измерения надо взять все элементы, то можно передать `:`, или `None`"
   ]
  },
  {
   "cell_type": "code",
   "execution_count": 60,
   "id": "b152fd5d",
   "metadata": {},
   "outputs": [
    {
     "name": "stdout",
     "output_type": "stream",
     "text": [
      "0-th row [1 2]\n",
      "0-th column [1 3]\n",
      "[[2 3]\n",
      " [6 7]]\n"
     ]
    }
   ],
   "source": [
    "a = np.array([\n",
    "    [1, 2],\n",
    "    [3, 4]\n",
    "])\n",
    "\n",
    "print('0-th row', a[0])\n",
    "print('0-th column', a[:, 0])\n",
    "\n",
    "b = np.arange(0, 8).reshape(2, 2, 2)\n",
    "print(b[:, 1, :])"
   ]
  },
  {
   "cell_type": "markdown",
   "id": "ca2e67a0",
   "metadata": {},
   "source": [
    "* много индексов вдоль какого-то измерения. Можно передать список (или массив) индексов, тогда будут взять соответствующие элементы"
   ]
  },
  {
   "cell_type": "code",
   "execution_count": 82,
   "id": "82b42519",
   "metadata": {},
   "outputs": [
    {
     "name": "stdout",
     "output_type": "stream",
     "text": [
      "[[0 1 2]\n",
      " [6 7 8]]\n",
      "[[0 1 2]\n",
      " [6 7 8]]\n"
     ]
    }
   ],
   "source": [
    "a = np.arange(0, 9).reshape(3, 3)\n",
    "print(a[[0, 2], :])\n",
    "print(a[::2, :])"
   ]
  },
  {
   "cell_type": "markdown",
   "id": "55da4f00",
   "metadata": {},
   "source": [
    "Но есть так сделать для нескольких осей, то результат может удивить. \n",
    "Формально, если передать\n",
    "$$\n",
    "ar[[x_1, x_2, \\ldots, x_n], [y_1, y_2, \\ldots, y_n]],\n",
    "$$\n",
    "то в результате будет одномерный массив \n",
    "$$\n",
    "[ar[x_1, y_1], ar[x_2, y_2], \\ldots, ar[x_n, y_n]]\n",
    "$$"
   ]
  },
  {
   "cell_type": "code",
   "execution_count": 73,
   "id": "1de9a825",
   "metadata": {},
   "outputs": [
    {
     "name": "stdout",
     "output_type": "stream",
     "text": [
      "[0 7]\n"
     ]
    }
   ],
   "source": [
    "a = np.arange(0, 9).reshape(3, 3)\n",
    "print(a[[0, 2], [0, 1]])"
   ]
  },
  {
   "cell_type": "markdown",
   "id": "70622bc3",
   "metadata": {},
   "source": [
    "Чтобы взять несколько строк и столбцов, можно использовать функцию `np.ix_`"
   ]
  },
  {
   "cell_type": "code",
   "execution_count": 78,
   "id": "0b66f6a7",
   "metadata": {},
   "outputs": [
    {
     "name": "stdout",
     "output_type": "stream",
     "text": [
      "[[0 1]\n",
      " [6 7]]\n"
     ]
    }
   ],
   "source": [
    "a = np.arange(0, 9).reshape(3, 3)\n",
    "print(a[np.ix_([0, 2], [0, 1])])\n"
   ]
  },
  {
   "cell_type": "markdown",
   "id": "0a1e6aa2",
   "metadata": {},
   "source": [
    "* булевой маской. Можно передавать булев массив, тогда будет взяты те элементы (или срезы), для которых истинны значения в маске\n",
    "\n"
   ]
  },
  {
   "cell_type": "code",
   "execution_count": 90,
   "id": "b4b5fe47",
   "metadata": {},
   "outputs": [
    {
     "name": "stdout",
     "output_type": "stream",
     "text": [
      "[[False False False]\n",
      " [False False False]\n",
      " [ True  True  True]]\n",
      "[1 2 3]\n",
      "[0 1 2 3]\n"
     ]
    }
   ],
   "source": [
    "a = np.arange(-5, 4).reshape(3, 3)\n",
    "positive = a > 0\n",
    "print(positive)\n",
    "print(a[positive])\n",
    "\n",
    "print(a[a > -1]) # Обратите внимание на размер"
   ]
  },
  {
   "cell_type": "markdown",
   "id": "91d9c35a",
   "metadata": {},
   "source": [
    "### [Broadcasting](https://docs.scipy.org/doc/numpy/user/basics.broadcasting.html)"
   ]
  },
  {
   "cell_type": "markdown",
   "id": "fa923418",
   "metadata": {},
   "source": [
    "Broadcasting снимает правило одной размерности и позволяет производить арифметические операции над массивами разных, но всё-таки согласованных размерностей.\n",
    "\n",
    "Если количество размерностей не совпадают, то к массиву меньшей размерности добавляются фиктивные размерности \"слева\"\n",
    "Проще всего показать на картинке:\n",
    "![title](http://www.scipy-lectures.org/_images/numpy_broadcasting.png)\n",
    "\n",
    "При этом скаляр (число) может быть интепретировано как массив с 1 размерностью, и к нему так же применяются правила распространения."
   ]
  },
  {
   "cell_type": "code",
   "execution_count": 109,
   "id": "05542c0c",
   "metadata": {},
   "outputs": [
    {
     "name": "stdout",
     "output_type": "stream",
     "text": [
      "A [[0 1]\n",
      " [2 3]]\n",
      "B [0 1]\n",
      "=====\n",
      "A + B\n",
      "[[0 2]\n",
      " [2 4]]\n",
      "[[0 1]\n",
      " [3 4]]\n",
      "=====\n",
      "[[0 2]\n",
      " [4 6]]\n"
     ]
    }
   ],
   "source": [
    "a = np.arange(4).reshape(2, 2)\n",
    "b = np.arange(2)\n",
    "\n",
    "print('A', a)\n",
    "print('B', b)\n",
    "\n",
    "print('=====')\n",
    "print('A + B')\n",
    "print(a + b)\n",
    "print(a + b.reshape(len(b), -1))\n",
    "print('=====')\n",
    "\n",
    "print(2 * a)"
   ]
  },
  {
   "cell_type": "markdown",
   "id": "73408279",
   "metadata": {},
   "source": [
    "### Агрегаты"
   ]
  },
  {
   "cell_type": "markdown",
   "id": "41071b99",
   "metadata": {},
   "source": [
    "Можно брать сумму, произведение элементов, максимум и другие операции. Всех, или только вдоль некоторых осей. "
   ]
  },
  {
   "cell_type": "code",
   "execution_count": 126,
   "id": "8effd9dd",
   "metadata": {},
   "outputs": [
    {
     "name": "stdout",
     "output_type": "stream",
     "text": [
      "[[0 1]\n",
      " [2 3]]\n",
      "6\n",
      "[2 4]\n",
      "[1 5]\n",
      "[[1]\n",
      " [5]]\n"
     ]
    }
   ],
   "source": [
    "a = np.arange(4).reshape(2, 2)\n",
    "print(a)\n",
    "\n",
    "print(np.sum(a))\n",
    "print(np.sum(a, axis=0))\n",
    "print(np.sum(a, axis=1))\n",
    "print(np.sum(a, axis=1, keepdims=True))"
   ]
  },
  {
   "cell_type": "markdown",
   "id": "0bfcbd70",
   "metadata": {},
   "source": [
    "### Скорость"
   ]
  },
  {
   "cell_type": "markdown",
   "id": "b3c0780a",
   "metadata": {},
   "source": [
    "Давайте посчитаем скалярное произведение\n",
    "$$\n",
    "     xy = \\sum_{i = 1}^N x[i]y[i]\n",
    "$$"
   ]
  },
  {
   "cell_type": "code",
   "execution_count": 120,
   "id": "0e77243f",
   "metadata": {},
   "outputs": [],
   "source": [
    "def dot_product_python(x, y):\n",
    "    return sum(xi * yi for xi, yi in zip(x, y))\n",
    "    \n",
    "    \n",
    "def dot_product_manual_numpy(x, y):\n",
    "    return np.sum(x * y)\n",
    "\n",
    "\n",
    "def dot_product_numpy(x, y):\n",
    "    return np.dot(x, y)"
   ]
  },
  {
   "cell_type": "code",
   "execution_count": 115,
   "id": "8aac9a69",
   "metadata": {},
   "outputs": [],
   "source": [
    "size = 10000\n",
    "\n",
    "a = np.random.randn(size)\n",
    "b = np.random.randn(size)"
   ]
  },
  {
   "cell_type": "code",
   "execution_count": 117,
   "id": "47de4f80",
   "metadata": {},
   "outputs": [
    {
     "name": "stdout",
     "output_type": "stream",
     "text": [
      "1.07 ms ± 35 µs per loop (mean ± std. dev. of 7 runs, 1,000 loops each)\n"
     ]
    }
   ],
   "source": [
    "%%timeit \n",
    "dot_product_python(a, b)"
   ]
  },
  {
   "cell_type": "code",
   "execution_count": 118,
   "id": "0c47d4c1",
   "metadata": {},
   "outputs": [
    {
     "name": "stdout",
     "output_type": "stream",
     "text": [
      "6.37 µs ± 29.2 ns per loop (mean ± std. dev. of 7 runs, 100,000 loops each)\n"
     ]
    }
   ],
   "source": [
    "%%timeit \n",
    "dot_product_manual_numpy(a, b)"
   ]
  },
  {
   "cell_type": "code",
   "execution_count": 121,
   "id": "811c6223",
   "metadata": {},
   "outputs": [
    {
     "name": "stdout",
     "output_type": "stream",
     "text": [
      "5.34 µs ± 51.2 ns per loop (mean ± std. dev. of 7 runs, 100,000 loops each)\n"
     ]
    }
   ],
   "source": [
    "%%timeit\n",
    "dot_product_numpy(a, b)"
   ]
  },
  {
   "cell_type": "code",
   "execution_count": null,
   "id": "ddc9adf8",
   "metadata": {},
   "outputs": [],
   "source": []
  }
 ],
 "metadata": {
  "kernelspec": {
   "display_name": "Python 3 (ipykernel)",
   "language": "python",
   "name": "python3"
  },
  "language_info": {
   "codemirror_mode": {
    "name": "ipython",
    "version": 3
   },
   "file_extension": ".py",
   "mimetype": "text/x-python",
   "name": "python",
   "nbconvert_exporter": "python",
   "pygments_lexer": "ipython3",
   "version": "3.10.12"
  }
 },
 "nbformat": 4,
 "nbformat_minor": 5
}
